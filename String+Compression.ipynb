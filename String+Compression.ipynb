{
 "cells": [
  {
   "cell_type": "markdown",
   "metadata": {},
   "source": [
    "## Problem\n",
    "\n",
    "Given a string in the form 'AAAABBBBCCCCCDDEEEE' compress it to become 'A4B4C5D2E4'. For this problem, you can falsely \"compress\" strings of single or double letters. For instance, it is okay for 'AAB' to return 'A2B1' even though this technically takes more space.\n",
    "\n",
    "The function should also be case sensitive, so that a string 'AAAaaa' returns 'A3a3'."
   ]
  },
  {
   "cell_type": "code",
   "execution_count": null,
   "metadata": {},
   "outputs": [],
   "source": [
    "def compress1(s):\n",
    "    \n",
    "    #Check if String is zero lenght so return empty string\n",
    "    if len(s) == 0:\n",
    "        return ''\n",
    "    \n",
    "    #Define variables\n",
    "    finalstr = ''\n",
    "    lim = len(s)\n",
    "    space = [' ']\n",
    "    seen = set()\n",
    "    n = 0\n",
    "    \n",
    "    #Check all elements of String\n",
    "    while (n < lim):\n",
    "        \n",
    "        #As we want to count characters, so by use of set() we calculate each char once\n",
    "        if s[n] not in space and s[n] not in seen:\n",
    "            count = 0\n",
    "            \n",
    "            #We check each element in all other left elements of the string\n",
    "            for element in s:\n",
    "                if element == s[n]:\n",
    "                    count += 1\n",
    "            finalstr += str(s[n])+str(count)\n",
    "            seen.add(s[n])\n",
    "        n += 1\n",
    "        \n",
    "    #Return answer after while loop finished\n",
    "    return finalstr"
   ]
  }
 ],
 "metadata": {
  "kernelspec": {
   "display_name": "Python 3",
   "language": "python",
   "name": "python3"
  },
  "language_info": {
   "codemirror_mode": {
    "name": "ipython",
    "version": 3
   },
   "file_extension": ".py",
   "mimetype": "text/x-python",
   "name": "python",
   "nbconvert_exporter": "python",
   "pygments_lexer": "ipython3",
   "version": "3.6.3"
  }
 },
 "nbformat": 4,
 "nbformat_minor": 2
}
