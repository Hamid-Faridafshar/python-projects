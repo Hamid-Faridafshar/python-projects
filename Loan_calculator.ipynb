{
 "cells": [
  {
   "cell_type": "markdown",
   "metadata": {},
   "source": [
    "# Loan Calculator based on Python3"
   ]
  },
  {
   "cell_type": "markdown",
   "metadata": {},
   "source": [
    "## Brief description"
   ]
  },
  {
   "cell_type": "markdown",
   "metadata": {},
   "source": [
    "This program would get 3 information such as:\n",
    "    -Loan amount\n",
    "    -Annual interest rate in percent\n",
    "    -Loan Duration in years\n",
    "and would return below items:\n",
    "    1-Loan amount and Interest rate\n",
    "    2-Duration and monthly payments\n",
    "    3-and showing left amount of loan and total payments in seprated loan duration years."
   ]
  },
  {
   "cell_type": "markdown",
   "metadata": {},
   "source": [
    "## Instruction"
   ]
  },
  {
   "cell_type": "markdown",
   "metadata": {},
   "source": [
    "This program developed in 2 majules and main program.\n",
    "One of the functions is going to calculate payments, the other one calculate remaining balance, and main program would get data from user and return result of calculations."
   ]
  },
  {
   "cell_type": "markdown",
   "metadata": {},
   "source": [
    "### Majule One - Calculating Payment"
   ]
  },
  {
   "cell_type": "code",
   "execution_count": null,
   "metadata": {
    "collapsed": true
   },
   "outputs": [],
   "source": [
    "def payment_mine (principal, annual_interest_rate, duration):\n",
    "    r=float((annual_interest_rate/100)/12)   #calculate monthly interest rate\n",
    "    n=duration*12   #change yearly duration to monthly\n",
    "    if annual_interest_rate != 0:\n",
    "        MonthlyPayment= float((principal *r*(1+r)**n)/((1+r)**n-1))\n",
    "\n",
    "    else:\n",
    "        MonthlyPayment= float(principal/n)\n",
    "\n",
    "    return MonthlyPayment"
   ]
  },
  {
   "cell_type": "markdown",
   "metadata": {},
   "source": [
    "### Majule Two - Calculating Remaining Balance"
   ]
  },
  {
   "cell_type": "code",
   "execution_count": null,
   "metadata": {
    "collapsed": true
   },
   "outputs": [],
   "source": [
    "def remaining_loan (principal, annual_interest_rate, duration, number_of_payments):\n",
    "    r=float((annual_interest_rate/100)/12)   #calculate monthly interest rate\n",
    "    n=duration*12   #change yearly duration to monthly\n",
    "    p=number_of_payments\n",
    "\n",
    "    #Calculations\n",
    "    if annual_interest_rate != 0:\n",
    "        RemainingLoanBalance= (principal*((1+r)**n-(1+r)**p))/((1+r)**n-1)\n",
    "    else:\n",
    "        RemainingLoanBalance= principal-(principal*p)/n\n",
    "\n",
    "    return RemainingLoanBalance   "
   ]
  },
  {
   "cell_type": "markdown",
   "metadata": {},
   "source": [
    "### Main Program"
   ]
  },
  {
   "cell_type": "code",
   "execution_count": null,
   "metadata": {
    "collapsed": true
   },
   "outputs": [],
   "source": [
    "principal=float(input(\"Enter loan amount: \"))\n",
    "annual_interest_rate=float(input(\"Enter annual interest rate (percent): \"))\n",
    "duration=int(input(\"Enter loan duration in years: \"))\n",
    "\n",
    "print(\"LOAN AMOUNT:\", int(principal),\"INTEREST RATE (PERCENT):\", int(annual_interest_rate))\n",
    "print(\"DURATION (YEARS):\", int(duration),\"MONTHLY PAYMENT:\", int(payment_mine(principal, annual_interest_rate, duration)))\n",
    "\n",
    "#show remaining loan for each year seprately\n",
    "for item in range(1, duration+1):\n",
    "    print(\"YEAR:\", item,\"BALANCE:\", int(remaining_loan(principal, annual_interest_rate, duration, item*12)),\"TOTAL PAYMENT\",int(payment_mine(principal,annual_interest_rate, duration)*12*item))"
   ]
  },
  {
   "cell_type": "markdown",
   "metadata": {},
   "source": [
    "## Result Sample"
   ]
  },
  {
   "cell_type": "markdown",
   "metadata": {},
   "source": [
    "#### By entering below informations:\n",
    "Enter loan amount: 1000.0\n",
    "Enter annual interest rate (percent): 10.0\n",
    "Enter loan duration in years: 5\n",
    "\n",
    "#### Result would be:\n",
    "LOAN AMOUNT: 1000 INTEREST RATE (PERCENT): 10\n",
    "DURATION (YEARS): 5 MONTHLY PAYMENT: 21\n",
    "YEAR: 1 BALANCE: 837 TOTAL PAYMENT 254\n",
    "YEAR: 2 BALANCE: 658 TOTAL PAYMENT 509\n",
    "YEAR: 3 BALANCE: 460 TOTAL PAYMENT 764\n",
    "YEAR: 4 BALANCE: 241 TOTAL PAYMENT 1019\n",
    "YEAR: 5 BALANCE: 0 TOTAL PAYMENT 1274"
   ]
  }
 ],
 "metadata": {
  "kernelspec": {
   "display_name": "Python 3",
   "language": "python",
   "name": "python3"
  },
  "language_info": {
   "codemirror_mode": {
    "name": "ipython",
    "version": 3
   },
   "file_extension": ".py",
   "mimetype": "text/x-python",
   "name": "python",
   "nbconvert_exporter": "python",
   "pygments_lexer": "ipython3",
   "version": "3.6.3"
  }
 },
 "nbformat": 4,
 "nbformat_minor": 2
}
